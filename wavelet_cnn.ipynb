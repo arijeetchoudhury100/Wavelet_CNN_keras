{
  "nbformat": 4,
  "nbformat_minor": 0,
  "metadata": {
    "colab": {
      "name": "wavelet_cnn.ipynb",
      "provenance": [],
      "collapsed_sections": [],
      "toc_visible": true,
      "authorship_tag": "ABX9TyOs+95SIdixrtuypbPy1o4b",
      "include_colab_link": true
    },
    "kernelspec": {
      "name": "python3",
      "display_name": "Python 3"
    },
    "accelerator": "GPU"
  },
  "cells": [
    {
      "cell_type": "markdown",
      "metadata": {
        "id": "view-in-github",
        "colab_type": "text"
      },
      "source": [
        "<a href=\"https://colab.research.google.com/github/arijeetchoudhury100/Wavelet_CNN_keras/blob/main/wavelet_cnn.ipynb\" target=\"_parent\"><img src=\"https://colab.research.google.com/assets/colab-badge.svg\" alt=\"Open In Colab\"/></a>"
      ]
    },
    {
      "cell_type": "code",
      "metadata": {
        "id": "93Cc2T7Vxk5Q"
      },
      "source": [
        "!pip install tensorflow==2.2-rc3"
      ],
      "execution_count": null,
      "outputs": []
    },
    {
      "cell_type": "code",
      "metadata": {
        "id": "o1QS4ufz5MaU"
      },
      "source": [
        "import numpy as np\n",
        "import math\n",
        "import cv2\n",
        "import pywt\n",
        "import os\n",
        "from PIL import Image\n",
        "from tensorflow.keras.utils import to_categorical, Sequence\n",
        "from tensorflow.keras.preprocessing.image import load_img, img_to_array\n",
        "from tensorflow.keras.models import Model, Sequential\n",
        "import seaborn as sb\n",
        "from tensorflow.keras.layers import Input, Conv2D, MaxPooling2D, Dense, Flatten, BatchNormalization, Activation, Dropout, Lambda, GlobalAveragePooling2D\n",
        "from tensorflow.keras.callbacks import ModelCheckpoint, EarlyStopping, LearningRateScheduler, ReduceLROnPlateau\n",
        "from tensorflow.keras.preprocessing.image import ImageDataGenerator\n",
        "from tensorflow.keras.optimizers import Adam, SGD, RMSprop\n",
        "from tensorflow.keras.applications.vgg19 import VGG19\n",
        "from tensorflow.keras.applications.resnet50 import ResNet50\n",
        "from sklearn.metrics import classification_report,confusion_matrix\n",
        "import tensorflow.keras.backend as K\n",
        "import matplotlib.pyplot as plt\n",
        "import tensorflow as tf\n",
        "from keras.layers import Layer"
      ],
      "execution_count": null,
      "outputs": []
    },
    {
      "cell_type": "code",
      "metadata": {
        "id": "IAhhshU03KbM"
      },
      "source": [
        "K.set_image_data_format('channels_first')"
      ],
      "execution_count": null,
      "outputs": []
    },
    {
      "cell_type": "code",
      "metadata": {
        "id": "Uw_rSzNTKrVD",
        "outputId": "f53f8af1-2997-4223-8e45-0deeb0a26c38",
        "colab": {
          "base_uri": "https://localhost:8080/"
        }
      },
      "source": [
        "print(pywt.wavelist(kind='discrete'))"
      ],
      "execution_count": 46,
      "outputs": [
        {
          "output_type": "stream",
          "text": [
            "['bior1.1', 'bior1.3', 'bior1.5', 'bior2.2', 'bior2.4', 'bior2.6', 'bior2.8', 'bior3.1', 'bior3.3', 'bior3.5', 'bior3.7', 'bior3.9', 'bior4.4', 'bior5.5', 'bior6.8', 'coif1', 'coif2', 'coif3', 'coif4', 'coif5', 'coif6', 'coif7', 'coif8', 'coif9', 'coif10', 'coif11', 'coif12', 'coif13', 'coif14', 'coif15', 'coif16', 'coif17', 'db1', 'db2', 'db3', 'db4', 'db5', 'db6', 'db7', 'db8', 'db9', 'db10', 'db11', 'db12', 'db13', 'db14', 'db15', 'db16', 'db17', 'db18', 'db19', 'db20', 'db21', 'db22', 'db23', 'db24', 'db25', 'db26', 'db27', 'db28', 'db29', 'db30', 'db31', 'db32', 'db33', 'db34', 'db35', 'db36', 'db37', 'db38', 'dmey', 'haar', 'rbio1.1', 'rbio1.3', 'rbio1.5', 'rbio2.2', 'rbio2.4', 'rbio2.6', 'rbio2.8', 'rbio3.1', 'rbio3.3', 'rbio3.5', 'rbio3.7', 'rbio3.9', 'rbio4.4', 'rbio5.5', 'rbio6.8', 'sym2', 'sym3', 'sym4', 'sym5', 'sym6', 'sym7', 'sym8', 'sym9', 'sym10', 'sym11', 'sym12', 'sym13', 'sym14', 'sym15', 'sym16', 'sym17', 'sym18', 'sym19', 'sym20']\n"
          ],
          "name": "stdout"
        }
      ]
    },
    {
      "cell_type": "code",
      "metadata": {
        "id": "73yievbYyZAX"
      },
      "source": [
        "#define the wavelet\n",
        "#see pywt.wavelist(kind='discrete') for available wavelets \n",
        "wavelet = pywt.Wavelet('haar')\n",
        "\n",
        "class DWT_Pooling(tf.keras.layers.Layer):\n",
        "    def __init__(self,**kwargs):\n",
        "        super(DWT_Pooling, self).__init__(**kwargs)\n",
        "        \n",
        "    def build(self, input_shape):\n",
        "        super(DWT_Pooling, self).build(input_shape) \n",
        "    \n",
        "    @tf.function\n",
        "    def call(self, inputs):\n",
        "        band_low = wavelet.rec_lo\n",
        "        band_high = wavelet.rec_hi\n",
        "        assert len(band_low) == len(band_high)\n",
        "        band_length = len(band_low)\n",
        "        assert band_length % 2 == 0\n",
        "        band_length_half = math.floor(band_length / 2)\n",
        "\n",
        "        input_height = inputs.shape[2]\n",
        "        input_width = inputs.shape[3]\n",
        "\n",
        "        L1 = input_height\n",
        "        L = math.floor(L1 / 2)\n",
        "        matrix_h = np.zeros( ( L,      L1 + band_length - 2 ), dtype=np.float32)\n",
        "        matrix_g = np.zeros( ( L1 - L, L1 + band_length - 2 ), dtype=np.float32)\n",
        "        end = None if band_length_half == 1 else (-band_length_half+1)\n",
        "        \n",
        "        index = 0\n",
        "        for i in range(L):\n",
        "            for j in range(band_length):\n",
        "                matrix_h[i, index+j] = band_low[j]\n",
        "            index += 2\n",
        "        matrix_h_0 = matrix_h[0:(math.floor(input_height / 2)), 0:(input_height + band_length - 2)]\n",
        "        matrix_h_1 = matrix_h[0:(math.floor(input_width / 2)), 0:(input_width + band_length - 2)]\n",
        "\n",
        "        index = 0\n",
        "        for i in range(L1 - L):\n",
        "            for j in range(band_length):\n",
        "                matrix_g[i, index+j] = band_high[j]\n",
        "            index += 2\n",
        "\n",
        "        matrix_g_0 = matrix_g[0:(input_height - math.floor(input_height / 2)),0:(input_height + band_length - 2)]\n",
        "        matrix_g_1 = matrix_g[0:(input_width - math.floor(input_width / 2)),0:(input_width + band_length - 2)]\n",
        "\n",
        "        matrix_h_0 = matrix_h_0[:,(band_length_half-1):end]\n",
        "        matrix_h_1 = matrix_h_1[:,(band_length_half-1):end]\n",
        "        matrix_h_1 = np.transpose(matrix_h_1)\n",
        "        matrix_g_0 = matrix_g_0[:,(band_length_half-1):end]\n",
        "        matrix_g_1 = matrix_g_1[:,(band_length_half-1):end]\n",
        "        matrix_g_1 = np.transpose(matrix_g_1)\n",
        "\n",
        "        matrix_low_0 = tf.convert_to_tensor(matrix_h_0,dtype=tf.float32)\n",
        "        matrix_low_1 = tf.convert_to_tensor(matrix_h_1,dtype=tf.float32)\n",
        "        matrix_high_0 = tf.convert_to_tensor(matrix_g_0,dtype=tf.float32)\n",
        "        matrix_high_1 = tf.convert_to_tensor(matrix_g_1,dtype=tf.float32)\n",
        "        \n",
        "        L = tf.matmul(matrix_low_0, inputs)\n",
        "        H = tf.matmul(matrix_high_0, inputs)\n",
        "        LL = tf.matmul(L, matrix_low_1)\n",
        "        LH = tf.matmul(L, matrix_high_1)\n",
        "        HL = tf.matmul(H, matrix_low_1)\n",
        "        HH = tf.matmul(H, matrix_high_1)\n",
        "        return LL    \n",
        "    \n",
        "    def get_config(self):\n",
        "        config = super(DWT_Pooling, self).get_config()\n",
        "        return config\n",
        "\n",
        "    def compute_output_shape(self, input_shape):\n",
        "        return (input_shape[0], input_shape[1], input_shape[2]//2, input_shape[3]//2)"
      ],
      "execution_count": null,
      "outputs": []
    },
    {
      "cell_type": "code",
      "metadata": {
        "id": "Mwzu0-6vydTI"
      },
      "source": [
        "def create_model(input_shape=(1,28,28), num_classes = 1, output_bias=None):\n",
        "  if output_bias is not None:\n",
        "    output_bias = tf.keras.initializers.Constant(output_bias)\n",
        "\n",
        "  inputs = Input(shape=input_shape)\n",
        "  \n",
        "  output = Conv2D(16,(3,3),padding='same',use_bias=False)(inputs)\n",
        "  output = BatchNormalization(scale=False,center=True)(output)\n",
        "  output = Activation('relu')(output)\n",
        "  #output = MaxPooling2D()(output)\n",
        "  output = DWT_Pooling()(output)\n",
        "\n",
        "  output = Conv2D(32,(3,3),padding='same',use_bias=False)(output)\n",
        "  output = BatchNormalization(scale=False,center=True)(output)\n",
        "  output = Activation('relu')(output)\n",
        "  #output = MaxPooling2D()(output)\n",
        "  output = DWT_Pooling()(output)\n",
        "\n",
        "  output = Flatten()(output)\n",
        "  output = Dense(256,activation='relu')(output)\n",
        "  output = Dropout(0.3)(output)\n",
        "  if num_classes == 1:\n",
        "    activation = 'sigmoid'\n",
        "  else:\n",
        "    activation = 'softmax'\n",
        "  output = Dense(num_classes,activation=activation,bias_initializer=output_bias)(output)\n",
        "  model = Model(inputs,output)\n",
        "  return model"
      ],
      "execution_count": null,
      "outputs": []
    },
    {
      "cell_type": "code",
      "metadata": {
        "id": "_XZAA_fW0NZj",
        "outputId": "00c07d81-c539-41de-9091-fdd622535a64",
        "colab": {
          "base_uri": "https://localhost:8080/"
        }
      },
      "source": [
        "model = create_model(input_shape=(1,28,28),num_classes=10)\n",
        "model.summary()"
      ],
      "execution_count": 55,
      "outputs": [
        {
          "output_type": "stream",
          "text": [
            "Model: \"model_3\"\n",
            "_________________________________________________________________\n",
            "Layer (type)                 Output Shape              Param #   \n",
            "=================================================================\n",
            "input_6 (InputLayer)         [(None, 1, 28, 28)]       0         \n",
            "_________________________________________________________________\n",
            "conv2d_8 (Conv2D)            (None, 16, 28, 28)        144       \n",
            "_________________________________________________________________\n",
            "batch_normalization_8 (Batch (None, 16, 28, 28)        84        \n",
            "_________________________________________________________________\n",
            "activation_8 (Activation)    (None, 16, 28, 28)        0         \n",
            "_________________________________________________________________\n",
            "dwt__pooling_7 (DWT_Pooling) (None, 16, 14, 14)        0         \n",
            "_________________________________________________________________\n",
            "conv2d_9 (Conv2D)            (None, 32, 14, 14)        4608      \n",
            "_________________________________________________________________\n",
            "batch_normalization_9 (Batch (None, 32, 14, 14)        42        \n",
            "_________________________________________________________________\n",
            "activation_9 (Activation)    (None, 32, 14, 14)        0         \n",
            "_________________________________________________________________\n",
            "dwt__pooling_8 (DWT_Pooling) (None, 32, 7, 7)          0         \n",
            "_________________________________________________________________\n",
            "flatten_3 (Flatten)          (None, 1568)              0         \n",
            "_________________________________________________________________\n",
            "dense_6 (Dense)              (None, 256)               401664    \n",
            "_________________________________________________________________\n",
            "dropout_3 (Dropout)          (None, 256)               0         \n",
            "_________________________________________________________________\n",
            "dense_7 (Dense)              (None, 10)                2570      \n",
            "=================================================================\n",
            "Total params: 409,112\n",
            "Trainable params: 409,028\n",
            "Non-trainable params: 84\n",
            "_________________________________________________________________\n"
          ],
          "name": "stdout"
        }
      ]
    },
    {
      "cell_type": "markdown",
      "metadata": {
        "id": "gVEmDIXWLY0N"
      },
      "source": [
        "# MNIST example"
      ]
    },
    {
      "cell_type": "code",
      "metadata": {
        "id": "0LqyU97s2U0d"
      },
      "source": [
        "(x_train,y_train),(x_test,y_test) = tf.keras.datasets.mnist.load_data()"
      ],
      "execution_count": 47,
      "outputs": []
    },
    {
      "cell_type": "code",
      "metadata": {
        "id": "r_5kpTD1HNxW",
        "outputId": "806da018-9e9e-483c-a019-ff9438998ae0",
        "colab": {
          "base_uri": "https://localhost:8080/"
        }
      },
      "source": [
        "x_train.shape"
      ],
      "execution_count": 48,
      "outputs": [
        {
          "output_type": "execute_result",
          "data": {
            "text/plain": [
              "(60000, 28, 28)"
            ]
          },
          "metadata": {
            "tags": []
          },
          "execution_count": 48
        }
      ]
    },
    {
      "cell_type": "code",
      "metadata": {
        "id": "jeE1ZAxG6fHR"
      },
      "source": [
        "x_train = x_train/255.\n",
        "x_test = x_test/255."
      ],
      "execution_count": 49,
      "outputs": []
    },
    {
      "cell_type": "code",
      "metadata": {
        "id": "VgdnvPV36iE4"
      },
      "source": [
        "from tensorflow.keras.utils import to_categorical\n",
        "y_train_oh = to_categorical(y_train,10)\n",
        "y_test_oh = to_categorical(y_test,10)"
      ],
      "execution_count": 50,
      "outputs": []
    },
    {
      "cell_type": "code",
      "metadata": {
        "id": "jzKQQ0YE6yJn"
      },
      "source": [
        "num_train = x_train.shape[0]\n",
        "num_test = x_test.shape[0]\n",
        "img_height = x_train.shape[1]\n",
        "img_width = x_train.shape[2]\n",
        "num_channels = 1\n",
        "x_train = x_train.reshape(num_train,1,img_height,img_width)\n",
        "x_test = x_test.reshape(num_test,1,img_height,img_width)"
      ],
      "execution_count": 51,
      "outputs": []
    },
    {
      "cell_type": "code",
      "metadata": {
        "id": "2UqE7rU98dh2"
      },
      "source": [
        "opt= Adam(learning_rate=0.01)\n",
        "model.compile(optimizer = opt,loss='categorical_crossentropy',metrics=['accuracy'])"
      ],
      "execution_count": 56,
      "outputs": []
    },
    {
      "cell_type": "code",
      "metadata": {
        "id": "hTv6MHaK8zDl"
      },
      "source": [
        "def lr_decay(epoch):\n",
        "  return 0.01*math.pow(0.666,epoch)\n",
        "lr_decay_cb = LearningRateScheduler(lr_decay,verbose=True)\n",
        "model_check_cb = ModelCheckpoint('mnist_dwt.h5',save_best_only=True,monitor='val_loss')"
      ],
      "execution_count": 57,
      "outputs": []
    },
    {
      "cell_type": "code",
      "metadata": {
        "id": "jM7fMdhc7YBM",
        "outputId": "f26b5d7f-d66d-4b41-b684-f298c1f69c5d",
        "colab": {
          "base_uri": "https://localhost:8080/"
        }
      },
      "source": [
        "history = model.fit(x_train,y_train_oh,validation_data=(x_test,y_test_oh),epochs=10,batch_size=64,\n",
        "                    callbacks=[lr_decay_cb,model_check_cb])"
      ],
      "execution_count": 58,
      "outputs": [
        {
          "output_type": "stream",
          "text": [
            "\n",
            "Epoch 00001: LearningRateScheduler reducing learning rate to 0.01.\n",
            "Epoch 1/10\n",
            "938/938 [==============================] - 9s 9ms/step - loss: 0.2802 - accuracy: 0.9309 - val_loss: 0.0632 - val_accuracy: 0.9800 - lr: 0.0100\n",
            "\n",
            "Epoch 00002: LearningRateScheduler reducing learning rate to 0.00666.\n",
            "Epoch 2/10\n",
            "938/938 [==============================] - 8s 9ms/step - loss: 0.0748 - accuracy: 0.9785 - val_loss: 0.0449 - val_accuracy: 0.9852 - lr: 0.0067\n",
            "\n",
            "Epoch 00003: LearningRateScheduler reducing learning rate to 0.004435560000000001.\n",
            "Epoch 3/10\n",
            "938/938 [==============================] - 8s 9ms/step - loss: 0.0498 - accuracy: 0.9849 - val_loss: 0.0351 - val_accuracy: 0.9878 - lr: 0.0044\n",
            "\n",
            "Epoch 00004: LearningRateScheduler reducing learning rate to 0.0029540829600000007.\n",
            "Epoch 4/10\n",
            "938/938 [==============================] - 8s 9ms/step - loss: 0.0362 - accuracy: 0.9890 - val_loss: 0.0347 - val_accuracy: 0.9887 - lr: 0.0030\n",
            "\n",
            "Epoch 00005: LearningRateScheduler reducing learning rate to 0.0019674192513600007.\n",
            "Epoch 5/10\n",
            "938/938 [==============================] - 8s 9ms/step - loss: 0.0276 - accuracy: 0.9917 - val_loss: 0.0302 - val_accuracy: 0.9911 - lr: 0.0020\n",
            "\n",
            "Epoch 00006: LearningRateScheduler reducing learning rate to 0.0013103012214057605.\n",
            "Epoch 6/10\n",
            "938/938 [==============================] - 8s 9ms/step - loss: 0.0200 - accuracy: 0.9935 - val_loss: 0.0245 - val_accuracy: 0.9927 - lr: 0.0013\n",
            "\n",
            "Epoch 00007: LearningRateScheduler reducing learning rate to 0.0008726606134562365.\n",
            "Epoch 7/10\n",
            "938/938 [==============================] - 8s 8ms/step - loss: 0.0160 - accuracy: 0.9949 - val_loss: 0.0244 - val_accuracy: 0.9931 - lr: 8.7266e-04\n",
            "\n",
            "Epoch 00008: LearningRateScheduler reducing learning rate to 0.0005811919685618535.\n",
            "Epoch 8/10\n",
            "938/938 [==============================] - 8s 9ms/step - loss: 0.0126 - accuracy: 0.9961 - val_loss: 0.0264 - val_accuracy: 0.9924 - lr: 5.8119e-04\n",
            "\n",
            "Epoch 00009: LearningRateScheduler reducing learning rate to 0.0003870738510621945.\n",
            "Epoch 9/10\n",
            "938/938 [==============================] - 8s 9ms/step - loss: 0.0103 - accuracy: 0.9967 - val_loss: 0.0257 - val_accuracy: 0.9932 - lr: 3.8707e-04\n",
            "\n",
            "Epoch 00010: LearningRateScheduler reducing learning rate to 0.00025779118480742154.\n",
            "Epoch 10/10\n",
            "938/938 [==============================] - 8s 8ms/step - loss: 0.0097 - accuracy: 0.9970 - val_loss: 0.0249 - val_accuracy: 0.9931 - lr: 2.5779e-04\n"
          ],
          "name": "stdout"
        }
      ]
    },
    {
      "cell_type": "code",
      "metadata": {
        "id": "yrGDL9QX77Ev"
      },
      "source": [
        "best_model = tf.keras.models.load_model('mnist_dwt.h5',custom_objects={'DWT_Pooling':DWT_Pooling})"
      ],
      "execution_count": 59,
      "outputs": []
    },
    {
      "cell_type": "code",
      "metadata": {
        "id": "0ujsV5gyCWAZ",
        "outputId": "3f4fbc9c-bd39-4c57-d646-e411e1ea065c",
        "colab": {
          "base_uri": "https://localhost:8080/"
        }
      },
      "source": [
        "best_model.evaluate(x_test,y_test_oh)\n",
        "y_preds = np.argmax(m.predict(x_test),axis=1)"
      ],
      "execution_count": 60,
      "outputs": [
        {
          "output_type": "stream",
          "text": [
            "313/313 [==============================] - 1s 4ms/step - loss: 0.0245 - accuracy: 0.9931\n"
          ],
          "name": "stdout"
        }
      ]
    },
    {
      "cell_type": "code",
      "metadata": {
        "id": "mQ2-zjVJC9Zx",
        "outputId": "f73b99ea-9c10-4a68-9377-a88d3666b68a",
        "colab": {
          "base_uri": "https://localhost:8080/"
        }
      },
      "source": [
        "from sklearn.metrics import classification_report,roc_auc_score\n",
        "print(classification_report(y_test,y_preds))"
      ],
      "execution_count": 62,
      "outputs": [
        {
          "output_type": "stream",
          "text": [
            "              precision    recall  f1-score   support\n",
            "\n",
            "           0       0.99      1.00      1.00       980\n",
            "           1       0.99      1.00      1.00      1135\n",
            "           2       1.00      1.00      1.00      1032\n",
            "           3       0.99      0.99      0.99      1010\n",
            "           4       0.99      0.99      0.99       982\n",
            "           5       0.99      0.99      0.99       892\n",
            "           6       1.00      0.99      0.99       958\n",
            "           7       0.99      1.00      0.99      1028\n",
            "           8       0.99      0.99      0.99       974\n",
            "           9       0.99      0.99      0.99      1009\n",
            "\n",
            "    accuracy                           0.99     10000\n",
            "   macro avg       0.99      0.99      0.99     10000\n",
            "weighted avg       0.99      0.99      0.99     10000\n",
            "\n"
          ],
          "name": "stdout"
        }
      ]
    }
  ]
}